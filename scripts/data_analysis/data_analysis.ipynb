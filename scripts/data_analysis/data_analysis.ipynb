{
 "cells": [
  {
   "cell_type": "code",
   "execution_count": 1,
   "metadata": {},
   "outputs": [],
   "source": [
    "from data_preparation.functions import download, transform\n",
    "import pandas as pd\n",
    "\n",
    "URL = \"https://www.indec.gob.ar/ftp/cuadros/economia/sh_ipc_aperturas.xls\"\n",
    "PATH = \"index.csv\"\n",
    "SHEET_NAME = \"Índices aperturas\"\n",
    "REGIONS = {\"GBA\": (5, 46),\n",
    "           \"Pampeana\": (56, 44),\n",
    "           \"Noroeste\": (105, 44),\n",
    "           \"Noreste\": (154, 44),\n",
    "           \"Cuyo\": (203,44),\n",
    "           \"Patagonia\": (252,44)}\n",
    "PATH_DATA_TRANSFORMED = \"index_transformed.csv\"\n",
    "\n",
    "download(URL, SHEET_NAME, PATH)\n",
    "data = transform(PATH, REGIONS, PATH_DATA_TRANSFORMED)"
   ]
  },
  {
   "attachments": {},
   "cell_type": "markdown",
   "metadata": {},
   "source": [
    "Primero poder ver los primeros y los últimos registros del dataframe para tener una idea de como está compuesto:"
   ]
  },
  {
   "cell_type": "code",
   "execution_count": 2,
   "metadata": {},
   "outputs": [
    {
     "data": {
      "text/html": [
       "<div>\n",
       "<style scoped>\n",
       "    .dataframe tbody tr th:only-of-type {\n",
       "        vertical-align: middle;\n",
       "    }\n",
       "\n",
       "    .dataframe tbody tr th {\n",
       "        vertical-align: top;\n",
       "    }\n",
       "\n",
       "    .dataframe thead th {\n",
       "        text-align: right;\n",
       "    }\n",
       "</style>\n",
       "<table border=\"1\" class=\"dataframe\">\n",
       "  <thead>\n",
       "    <tr style=\"text-align: right;\">\n",
       "      <th></th>\n",
       "      <th>category</th>\n",
       "      <th>date</th>\n",
       "      <th>value</th>\n",
       "      <th>region</th>\n",
       "    </tr>\n",
       "  </thead>\n",
       "  <tbody>\n",
       "    <tr>\n",
       "      <th>0</th>\n",
       "      <td>Nivel general</td>\n",
       "      <td>2016-12-01</td>\n",
       "      <td>100.0000</td>\n",
       "      <td>GBA</td>\n",
       "    </tr>\n",
       "    <tr>\n",
       "      <th>1</th>\n",
       "      <td>Alimentos y bebidas no alcohólicas</td>\n",
       "      <td>2016-12-01</td>\n",
       "      <td>100.0000</td>\n",
       "      <td>GBA</td>\n",
       "    </tr>\n",
       "    <tr>\n",
       "      <th>2</th>\n",
       "      <td>Alimentos</td>\n",
       "      <td>2016-12-01</td>\n",
       "      <td>100.0000</td>\n",
       "      <td>GBA</td>\n",
       "    </tr>\n",
       "    <tr>\n",
       "      <th>3</th>\n",
       "      <td>Pan y cereales</td>\n",
       "      <td>2016-12-01</td>\n",
       "      <td>100.0000</td>\n",
       "      <td>GBA</td>\n",
       "    </tr>\n",
       "    <tr>\n",
       "      <th>4</th>\n",
       "      <td>Carnes y derivados</td>\n",
       "      <td>2016-12-01</td>\n",
       "      <td>100.0000</td>\n",
       "      <td>GBA</td>\n",
       "    </tr>\n",
       "    <tr>\n",
       "      <th>...</th>\n",
       "      <td>...</td>\n",
       "      <td>...</td>\n",
       "      <td>...</td>\n",
       "      <td>...</td>\n",
       "    </tr>\n",
       "    <tr>\n",
       "      <th>3306</th>\n",
       "      <td>Educación</td>\n",
       "      <td>2023-04-01</td>\n",
       "      <td>1051.1584</td>\n",
       "      <td>Patagonia</td>\n",
       "    </tr>\n",
       "    <tr>\n",
       "      <th>3307</th>\n",
       "      <td>Restaurantes y hoteles</td>\n",
       "      <td>2023-04-01</td>\n",
       "      <td>1512.6841</td>\n",
       "      <td>Patagonia</td>\n",
       "    </tr>\n",
       "    <tr>\n",
       "      <th>3308</th>\n",
       "      <td>Restaurantes y comidas fuera del hogar</td>\n",
       "      <td>2023-04-01</td>\n",
       "      <td>1511.5366</td>\n",
       "      <td>Patagonia</td>\n",
       "    </tr>\n",
       "    <tr>\n",
       "      <th>3309</th>\n",
       "      <td>Bienes y servicios varios</td>\n",
       "      <td>2023-04-01</td>\n",
       "      <td>1253.3177</td>\n",
       "      <td>Patagonia</td>\n",
       "    </tr>\n",
       "    <tr>\n",
       "      <th>3310</th>\n",
       "      <td>Cuidado personal</td>\n",
       "      <td>2023-04-01</td>\n",
       "      <td>1288.0252</td>\n",
       "      <td>Patagonia</td>\n",
       "    </tr>\n",
       "  </tbody>\n",
       "</table>\n",
       "<p>20020 rows × 4 columns</p>\n",
       "</div>"
      ],
      "text/plain": [
       "                                    category       date      value     region\n",
       "0                              Nivel general 2016-12-01   100.0000        GBA\n",
       "1         Alimentos y bebidas no alcohólicas 2016-12-01   100.0000        GBA\n",
       "2                                  Alimentos 2016-12-01   100.0000        GBA\n",
       "3                             Pan y cereales 2016-12-01   100.0000        GBA\n",
       "4                         Carnes y derivados 2016-12-01   100.0000        GBA\n",
       "...                                      ...        ...        ...        ...\n",
       "3306                               Educación 2023-04-01  1051.1584  Patagonia\n",
       "3307                  Restaurantes y hoteles 2023-04-01  1512.6841  Patagonia\n",
       "3308  Restaurantes y comidas fuera del hogar 2023-04-01  1511.5366  Patagonia\n",
       "3309               Bienes y servicios varios 2023-04-01  1253.3177  Patagonia\n",
       "3310                        Cuidado personal 2023-04-01  1288.0252  Patagonia\n",
       "\n",
       "[20020 rows x 4 columns]"
      ]
     },
     "execution_count": 2,
     "metadata": {},
     "output_type": "execute_result"
    }
   ],
   "source": [
    "data"
   ]
  },
  {
   "attachments": {},
   "cell_type": "markdown",
   "metadata": {},
   "source": [
    "Para poder hacer algunas de las operaciones que vamos a hacer es mejor tener ordenado el dataframe."
   ]
  },
  {
   "cell_type": "code",
   "execution_count": 3,
   "metadata": {},
   "outputs": [
    {
     "data": {
      "text/html": [
       "<div>\n",
       "<style scoped>\n",
       "    .dataframe tbody tr th:only-of-type {\n",
       "        vertical-align: middle;\n",
       "    }\n",
       "\n",
       "    .dataframe tbody tr th {\n",
       "        vertical-align: top;\n",
       "    }\n",
       "\n",
       "    .dataframe thead th {\n",
       "        text-align: right;\n",
       "    }\n",
       "</style>\n",
       "<table border=\"1\" class=\"dataframe\">\n",
       "  <thead>\n",
       "    <tr style=\"text-align: right;\">\n",
       "      <th></th>\n",
       "      <th>category</th>\n",
       "      <th>date</th>\n",
       "      <th>value</th>\n",
       "      <th>region</th>\n",
       "    </tr>\n",
       "  </thead>\n",
       "  <tbody>\n",
       "    <tr>\n",
       "      <th>0</th>\n",
       "      <td>Aceites, grasas y manteca</td>\n",
       "      <td>2016-12-01</td>\n",
       "      <td>100.0000</td>\n",
       "      <td>Cuyo</td>\n",
       "    </tr>\n",
       "    <tr>\n",
       "      <th>1</th>\n",
       "      <td>Aceites, grasas y manteca</td>\n",
       "      <td>2017-01-01</td>\n",
       "      <td>104.4466</td>\n",
       "      <td>Cuyo</td>\n",
       "    </tr>\n",
       "    <tr>\n",
       "      <th>2</th>\n",
       "      <td>Aceites, grasas y manteca</td>\n",
       "      <td>2017-02-01</td>\n",
       "      <td>112.0237</td>\n",
       "      <td>Cuyo</td>\n",
       "    </tr>\n",
       "    <tr>\n",
       "      <th>3</th>\n",
       "      <td>Aceites, grasas y manteca</td>\n",
       "      <td>2017-03-01</td>\n",
       "      <td>111.1990</td>\n",
       "      <td>Cuyo</td>\n",
       "    </tr>\n",
       "    <tr>\n",
       "      <th>4</th>\n",
       "      <td>Aceites, grasas y manteca</td>\n",
       "      <td>2017-04-01</td>\n",
       "      <td>110.9950</td>\n",
       "      <td>Cuyo</td>\n",
       "    </tr>\n",
       "    <tr>\n",
       "      <th>...</th>\n",
       "      <td>...</td>\n",
       "      <td>...</td>\n",
       "      <td>...</td>\n",
       "      <td>...</td>\n",
       "    </tr>\n",
       "    <tr>\n",
       "      <th>20015</th>\n",
       "      <td>Vivienda, agua, electricidad, gas y otros comb...</td>\n",
       "      <td>2022-12-01</td>\n",
       "      <td>893.0340</td>\n",
       "      <td>Patagonia</td>\n",
       "    </tr>\n",
       "    <tr>\n",
       "      <th>20016</th>\n",
       "      <td>Vivienda, agua, electricidad, gas y otros comb...</td>\n",
       "      <td>2023-01-01</td>\n",
       "      <td>965.7310</td>\n",
       "      <td>Patagonia</td>\n",
       "    </tr>\n",
       "    <tr>\n",
       "      <th>20017</th>\n",
       "      <td>Vivienda, agua, electricidad, gas y otros comb...</td>\n",
       "      <td>2023-02-01</td>\n",
       "      <td>1002.5857</td>\n",
       "      <td>Patagonia</td>\n",
       "    </tr>\n",
       "    <tr>\n",
       "      <th>20018</th>\n",
       "      <td>Vivienda, agua, electricidad, gas y otros comb...</td>\n",
       "      <td>2023-03-01</td>\n",
       "      <td>1045.6743</td>\n",
       "      <td>Patagonia</td>\n",
       "    </tr>\n",
       "    <tr>\n",
       "      <th>20019</th>\n",
       "      <td>Vivienda, agua, electricidad, gas y otros comb...</td>\n",
       "      <td>2023-04-01</td>\n",
       "      <td>1116.1330</td>\n",
       "      <td>Patagonia</td>\n",
       "    </tr>\n",
       "  </tbody>\n",
       "</table>\n",
       "<p>20020 rows × 4 columns</p>\n",
       "</div>"
      ],
      "text/plain": [
       "                                                category       date  \\\n",
       "0                              Aceites, grasas y manteca 2016-12-01   \n",
       "1                              Aceites, grasas y manteca 2017-01-01   \n",
       "2                              Aceites, grasas y manteca 2017-02-01   \n",
       "3                              Aceites, grasas y manteca 2017-03-01   \n",
       "4                              Aceites, grasas y manteca 2017-04-01   \n",
       "...                                                  ...        ...   \n",
       "20015  Vivienda, agua, electricidad, gas y otros comb... 2022-12-01   \n",
       "20016  Vivienda, agua, electricidad, gas y otros comb... 2023-01-01   \n",
       "20017  Vivienda, agua, electricidad, gas y otros comb... 2023-02-01   \n",
       "20018  Vivienda, agua, electricidad, gas y otros comb... 2023-03-01   \n",
       "20019  Vivienda, agua, electricidad, gas y otros comb... 2023-04-01   \n",
       "\n",
       "           value     region  \n",
       "0       100.0000       Cuyo  \n",
       "1       104.4466       Cuyo  \n",
       "2       112.0237       Cuyo  \n",
       "3       111.1990       Cuyo  \n",
       "4       110.9950       Cuyo  \n",
       "...          ...        ...  \n",
       "20015   893.0340  Patagonia  \n",
       "20016   965.7310  Patagonia  \n",
       "20017  1002.5857  Patagonia  \n",
       "20018  1045.6743  Patagonia  \n",
       "20019  1116.1330  Patagonia  \n",
       "\n",
       "[20020 rows x 4 columns]"
      ]
     },
     "execution_count": 3,
     "metadata": {},
     "output_type": "execute_result"
    }
   ],
   "source": [
    "data = data.sort_values([\"region\", \"category\", \"date\"],ignore_index=True)\n",
    "data"
   ]
  },
  {
   "attachments": {},
   "cell_type": "markdown",
   "metadata": {},
   "source": [
    "Es importante que no haya ningún valor duplicado, es decir que ninguna columna comparta los valores de \"region\", \"date\" y \"category\" al mismo tiempo."
   ]
  },
  {
   "cell_type": "code",
   "execution_count": 4,
   "metadata": {},
   "outputs": [
    {
     "data": {
      "text/html": [
       "<div>\n",
       "<style scoped>\n",
       "    .dataframe tbody tr th:only-of-type {\n",
       "        vertical-align: middle;\n",
       "    }\n",
       "\n",
       "    .dataframe tbody tr th {\n",
       "        vertical-align: top;\n",
       "    }\n",
       "\n",
       "    .dataframe thead th {\n",
       "        text-align: right;\n",
       "    }\n",
       "</style>\n",
       "<table border=\"1\" class=\"dataframe\">\n",
       "  <thead>\n",
       "    <tr style=\"text-align: right;\">\n",
       "      <th></th>\n",
       "      <th>category</th>\n",
       "      <th>date</th>\n",
       "      <th>value</th>\n",
       "      <th>region</th>\n",
       "    </tr>\n",
       "  </thead>\n",
       "  <tbody>\n",
       "  </tbody>\n",
       "</table>\n",
       "</div>"
      ],
      "text/plain": [
       "Empty DataFrame\n",
       "Columns: [category, date, value, region]\n",
       "Index: []"
      ]
     },
     "execution_count": 4,
     "metadata": {},
     "output_type": "execute_result"
    }
   ],
   "source": [
    "data[data[[\"region\", \"date\", \"category\"]].duplicated() == True]"
   ]
  },
  {
   "attachments": {},
   "cell_type": "markdown",
   "metadata": {},
   "source": [
    "Con el método info() podemos ver si hay valores nulos en alguna de las columnas y de qué tipo es cada una."
   ]
  },
  {
   "cell_type": "code",
   "execution_count": 5,
   "metadata": {},
   "outputs": [
    {
     "name": "stdout",
     "output_type": "stream",
     "text": [
      "<class 'pandas.core.frame.DataFrame'>\n",
      "RangeIndex: 20020 entries, 0 to 20019\n",
      "Data columns (total 4 columns):\n",
      " #   Column    Non-Null Count  Dtype         \n",
      "---  ------    --------------  -----         \n",
      " 0   category  20020 non-null  object        \n",
      " 1   date      20020 non-null  datetime64[ns]\n",
      " 2   value     19984 non-null  float64       \n",
      " 3   region    20020 non-null  object        \n",
      "dtypes: datetime64[ns](1), float64(1), object(2)\n",
      "memory usage: 625.8+ KB\n"
     ]
    }
   ],
   "source": [
    "data.info()"
   ]
  },
  {
   "attachments": {},
   "cell_type": "markdown",
   "metadata": {},
   "source": [
    "Solo la columna value tiene valores nulos. Vamos a tener que decidir que acción tomamos: eliminarlos, reemplazarlos o dejarlos como están. Con el método describe() se pueden observar que rango de valores toman las columnas numéricas. Para la columna \"date\" es importante que vaya desde diciembre de 2016 a abril de 2023. Para el caso de \"value\" no tiene que haber valores negativos."
   ]
  },
  {
   "cell_type": "code",
   "execution_count": 6,
   "metadata": {},
   "outputs": [
    {
     "data": {
      "text/html": [
       "<div>\n",
       "<style scoped>\n",
       "    .dataframe tbody tr th:only-of-type {\n",
       "        vertical-align: middle;\n",
       "    }\n",
       "\n",
       "    .dataframe tbody tr th {\n",
       "        vertical-align: top;\n",
       "    }\n",
       "\n",
       "    .dataframe thead th {\n",
       "        text-align: right;\n",
       "    }\n",
       "</style>\n",
       "<table border=\"1\" class=\"dataframe\">\n",
       "  <thead>\n",
       "    <tr style=\"text-align: right;\">\n",
       "      <th></th>\n",
       "      <th>date</th>\n",
       "      <th>value</th>\n",
       "    </tr>\n",
       "  </thead>\n",
       "  <tbody>\n",
       "    <tr>\n",
       "      <th>count</th>\n",
       "      <td>20020</td>\n",
       "      <td>19984.000000</td>\n",
       "    </tr>\n",
       "    <tr>\n",
       "      <th>mean</th>\n",
       "      <td>2020-01-31 03:07:00.779220736</td>\n",
       "      <td>404.744753</td>\n",
       "    </tr>\n",
       "    <tr>\n",
       "      <th>min</th>\n",
       "      <td>2016-12-01 00:00:00</td>\n",
       "      <td>95.350100</td>\n",
       "    </tr>\n",
       "    <tr>\n",
       "      <th>25%</th>\n",
       "      <td>2018-07-01 00:00:00</td>\n",
       "      <td>148.483250</td>\n",
       "    </tr>\n",
       "    <tr>\n",
       "      <th>50%</th>\n",
       "      <td>2020-02-01 00:00:00</td>\n",
       "      <td>292.818150</td>\n",
       "    </tr>\n",
       "    <tr>\n",
       "      <th>75%</th>\n",
       "      <td>2021-09-01 00:00:00</td>\n",
       "      <td>518.711550</td>\n",
       "    </tr>\n",
       "    <tr>\n",
       "      <th>max</th>\n",
       "      <td>2023-04-01 00:00:00</td>\n",
       "      <td>2429.889100</td>\n",
       "    </tr>\n",
       "    <tr>\n",
       "      <th>std</th>\n",
       "      <td>NaN</td>\n",
       "      <td>344.643996</td>\n",
       "    </tr>\n",
       "  </tbody>\n",
       "</table>\n",
       "</div>"
      ],
      "text/plain": [
       "                                date         value\n",
       "count                          20020  19984.000000\n",
       "mean   2020-01-31 03:07:00.779220736    404.744753\n",
       "min              2016-12-01 00:00:00     95.350100\n",
       "25%              2018-07-01 00:00:00    148.483250\n",
       "50%              2020-02-01 00:00:00    292.818150\n",
       "75%              2021-09-01 00:00:00    518.711550\n",
       "max              2023-04-01 00:00:00   2429.889100\n",
       "std                              NaN    344.643996"
      ]
     },
     "execution_count": 6,
     "metadata": {},
     "output_type": "execute_result"
    }
   ],
   "source": [
    "data.describe()"
   ]
  },
  {
   "attachments": {},
   "cell_type": "markdown",
   "metadata": {},
   "source": [
    "Vamos a observar para que categoría, fecha y región hay valores nulos de \"value\"."
   ]
  },
  {
   "cell_type": "code",
   "execution_count": 7,
   "metadata": {},
   "outputs": [
    {
     "data": {
      "text/html": [
       "<div>\n",
       "<style scoped>\n",
       "    .dataframe tbody tr th:only-of-type {\n",
       "        vertical-align: middle;\n",
       "    }\n",
       "\n",
       "    .dataframe tbody tr th {\n",
       "        vertical-align: top;\n",
       "    }\n",
       "\n",
       "    .dataframe thead th {\n",
       "        text-align: right;\n",
       "    }\n",
       "</style>\n",
       "<table border=\"1\" class=\"dataframe\">\n",
       "  <thead>\n",
       "    <tr style=\"text-align: right;\">\n",
       "      <th></th>\n",
       "      <th>category</th>\n",
       "      <th>date</th>\n",
       "      <th>value</th>\n",
       "      <th>region</th>\n",
       "    </tr>\n",
       "  </thead>\n",
       "  <tbody>\n",
       "    <tr>\n",
       "      <th>1118</th>\n",
       "      <td>Calzado</td>\n",
       "      <td>2020-04-01</td>\n",
       "      <td>NaN</td>\n",
       "      <td>Cuyo</td>\n",
       "    </tr>\n",
       "    <tr>\n",
       "      <th>2350</th>\n",
       "      <td>Prendas de vestir y materiales</td>\n",
       "      <td>2020-04-01</td>\n",
       "      <td>NaN</td>\n",
       "      <td>Cuyo</td>\n",
       "    </tr>\n",
       "    <tr>\n",
       "      <th>2581</th>\n",
       "      <td>Restaurantes y comidas fuera del hogar</td>\n",
       "      <td>2020-04-01</td>\n",
       "      <td>NaN</td>\n",
       "      <td>Cuyo</td>\n",
       "    </tr>\n",
       "    <tr>\n",
       "      <th>2582</th>\n",
       "      <td>Restaurantes y comidas fuera del hogar</td>\n",
       "      <td>2020-05-01</td>\n",
       "      <td>NaN</td>\n",
       "      <td>Cuyo</td>\n",
       "    </tr>\n",
       "    <tr>\n",
       "      <th>2583</th>\n",
       "      <td>Restaurantes y comidas fuera del hogar</td>\n",
       "      <td>2020-06-01</td>\n",
       "      <td>NaN</td>\n",
       "      <td>Cuyo</td>\n",
       "    </tr>\n",
       "    <tr>\n",
       "      <th>2584</th>\n",
       "      <td>Restaurantes y comidas fuera del hogar</td>\n",
       "      <td>2020-07-01</td>\n",
       "      <td>NaN</td>\n",
       "      <td>Cuyo</td>\n",
       "    </tr>\n",
       "    <tr>\n",
       "      <th>4429</th>\n",
       "      <td>Calzado</td>\n",
       "      <td>2020-04-01</td>\n",
       "      <td>NaN</td>\n",
       "      <td>GBA</td>\n",
       "    </tr>\n",
       "    <tr>\n",
       "      <th>5815</th>\n",
       "      <td>Prendas de vestir y materiales</td>\n",
       "      <td>2020-04-01</td>\n",
       "      <td>NaN</td>\n",
       "      <td>GBA</td>\n",
       "    </tr>\n",
       "    <tr>\n",
       "      <th>6046</th>\n",
       "      <td>Restaurantes y comidas fuera del hogar</td>\n",
       "      <td>2020-04-01</td>\n",
       "      <td>NaN</td>\n",
       "      <td>GBA</td>\n",
       "    </tr>\n",
       "    <tr>\n",
       "      <th>6047</th>\n",
       "      <td>Restaurantes y comidas fuera del hogar</td>\n",
       "      <td>2020-05-01</td>\n",
       "      <td>NaN</td>\n",
       "      <td>GBA</td>\n",
       "    </tr>\n",
       "    <tr>\n",
       "      <th>6048</th>\n",
       "      <td>Restaurantes y comidas fuera del hogar</td>\n",
       "      <td>2020-06-01</td>\n",
       "      <td>NaN</td>\n",
       "      <td>GBA</td>\n",
       "    </tr>\n",
       "    <tr>\n",
       "      <th>6049</th>\n",
       "      <td>Restaurantes y comidas fuera del hogar</td>\n",
       "      <td>2020-07-01</td>\n",
       "      <td>NaN</td>\n",
       "      <td>GBA</td>\n",
       "    </tr>\n",
       "    <tr>\n",
       "      <th>7894</th>\n",
       "      <td>Calzado</td>\n",
       "      <td>2020-04-01</td>\n",
       "      <td>NaN</td>\n",
       "      <td>Noreste</td>\n",
       "    </tr>\n",
       "    <tr>\n",
       "      <th>9126</th>\n",
       "      <td>Prendas de vestir y materiales</td>\n",
       "      <td>2020-04-01</td>\n",
       "      <td>NaN</td>\n",
       "      <td>Noreste</td>\n",
       "    </tr>\n",
       "    <tr>\n",
       "      <th>9357</th>\n",
       "      <td>Restaurantes y comidas fuera del hogar</td>\n",
       "      <td>2020-04-01</td>\n",
       "      <td>NaN</td>\n",
       "      <td>Noreste</td>\n",
       "    </tr>\n",
       "    <tr>\n",
       "      <th>9358</th>\n",
       "      <td>Restaurantes y comidas fuera del hogar</td>\n",
       "      <td>2020-05-01</td>\n",
       "      <td>NaN</td>\n",
       "      <td>Noreste</td>\n",
       "    </tr>\n",
       "    <tr>\n",
       "      <th>9359</th>\n",
       "      <td>Restaurantes y comidas fuera del hogar</td>\n",
       "      <td>2020-06-01</td>\n",
       "      <td>NaN</td>\n",
       "      <td>Noreste</td>\n",
       "    </tr>\n",
       "    <tr>\n",
       "      <th>9360</th>\n",
       "      <td>Restaurantes y comidas fuera del hogar</td>\n",
       "      <td>2020-07-01</td>\n",
       "      <td>NaN</td>\n",
       "      <td>Noreste</td>\n",
       "    </tr>\n",
       "    <tr>\n",
       "      <th>11205</th>\n",
       "      <td>Calzado</td>\n",
       "      <td>2020-04-01</td>\n",
       "      <td>NaN</td>\n",
       "      <td>Noroeste</td>\n",
       "    </tr>\n",
       "    <tr>\n",
       "      <th>12437</th>\n",
       "      <td>Prendas de vestir y materiales</td>\n",
       "      <td>2020-04-01</td>\n",
       "      <td>NaN</td>\n",
       "      <td>Noroeste</td>\n",
       "    </tr>\n",
       "    <tr>\n",
       "      <th>12668</th>\n",
       "      <td>Restaurantes y comidas fuera del hogar</td>\n",
       "      <td>2020-04-01</td>\n",
       "      <td>NaN</td>\n",
       "      <td>Noroeste</td>\n",
       "    </tr>\n",
       "    <tr>\n",
       "      <th>12669</th>\n",
       "      <td>Restaurantes y comidas fuera del hogar</td>\n",
       "      <td>2020-05-01</td>\n",
       "      <td>NaN</td>\n",
       "      <td>Noroeste</td>\n",
       "    </tr>\n",
       "    <tr>\n",
       "      <th>12670</th>\n",
       "      <td>Restaurantes y comidas fuera del hogar</td>\n",
       "      <td>2020-06-01</td>\n",
       "      <td>NaN</td>\n",
       "      <td>Noroeste</td>\n",
       "    </tr>\n",
       "    <tr>\n",
       "      <th>12671</th>\n",
       "      <td>Restaurantes y comidas fuera del hogar</td>\n",
       "      <td>2020-07-01</td>\n",
       "      <td>NaN</td>\n",
       "      <td>Noroeste</td>\n",
       "    </tr>\n",
       "    <tr>\n",
       "      <th>14516</th>\n",
       "      <td>Calzado</td>\n",
       "      <td>2020-04-01</td>\n",
       "      <td>NaN</td>\n",
       "      <td>Pampeana</td>\n",
       "    </tr>\n",
       "    <tr>\n",
       "      <th>15748</th>\n",
       "      <td>Prendas de vestir y materiales</td>\n",
       "      <td>2020-04-01</td>\n",
       "      <td>NaN</td>\n",
       "      <td>Pampeana</td>\n",
       "    </tr>\n",
       "    <tr>\n",
       "      <th>15979</th>\n",
       "      <td>Restaurantes y comidas fuera del hogar</td>\n",
       "      <td>2020-04-01</td>\n",
       "      <td>NaN</td>\n",
       "      <td>Pampeana</td>\n",
       "    </tr>\n",
       "    <tr>\n",
       "      <th>15980</th>\n",
       "      <td>Restaurantes y comidas fuera del hogar</td>\n",
       "      <td>2020-05-01</td>\n",
       "      <td>NaN</td>\n",
       "      <td>Pampeana</td>\n",
       "    </tr>\n",
       "    <tr>\n",
       "      <th>15981</th>\n",
       "      <td>Restaurantes y comidas fuera del hogar</td>\n",
       "      <td>2020-06-01</td>\n",
       "      <td>NaN</td>\n",
       "      <td>Pampeana</td>\n",
       "    </tr>\n",
       "    <tr>\n",
       "      <th>15982</th>\n",
       "      <td>Restaurantes y comidas fuera del hogar</td>\n",
       "      <td>2020-07-01</td>\n",
       "      <td>NaN</td>\n",
       "      <td>Pampeana</td>\n",
       "    </tr>\n",
       "    <tr>\n",
       "      <th>17827</th>\n",
       "      <td>Calzado</td>\n",
       "      <td>2020-04-01</td>\n",
       "      <td>NaN</td>\n",
       "      <td>Patagonia</td>\n",
       "    </tr>\n",
       "    <tr>\n",
       "      <th>19059</th>\n",
       "      <td>Prendas de vestir y materiales</td>\n",
       "      <td>2020-04-01</td>\n",
       "      <td>NaN</td>\n",
       "      <td>Patagonia</td>\n",
       "    </tr>\n",
       "    <tr>\n",
       "      <th>19290</th>\n",
       "      <td>Restaurantes y comidas fuera del hogar</td>\n",
       "      <td>2020-04-01</td>\n",
       "      <td>NaN</td>\n",
       "      <td>Patagonia</td>\n",
       "    </tr>\n",
       "    <tr>\n",
       "      <th>19291</th>\n",
       "      <td>Restaurantes y comidas fuera del hogar</td>\n",
       "      <td>2020-05-01</td>\n",
       "      <td>NaN</td>\n",
       "      <td>Patagonia</td>\n",
       "    </tr>\n",
       "    <tr>\n",
       "      <th>19292</th>\n",
       "      <td>Restaurantes y comidas fuera del hogar</td>\n",
       "      <td>2020-06-01</td>\n",
       "      <td>NaN</td>\n",
       "      <td>Patagonia</td>\n",
       "    </tr>\n",
       "    <tr>\n",
       "      <th>19293</th>\n",
       "      <td>Restaurantes y comidas fuera del hogar</td>\n",
       "      <td>2020-07-01</td>\n",
       "      <td>NaN</td>\n",
       "      <td>Patagonia</td>\n",
       "    </tr>\n",
       "  </tbody>\n",
       "</table>\n",
       "</div>"
      ],
      "text/plain": [
       "                                     category       date  value     region\n",
       "1118                                  Calzado 2020-04-01    NaN       Cuyo\n",
       "2350           Prendas de vestir y materiales 2020-04-01    NaN       Cuyo\n",
       "2581   Restaurantes y comidas fuera del hogar 2020-04-01    NaN       Cuyo\n",
       "2582   Restaurantes y comidas fuera del hogar 2020-05-01    NaN       Cuyo\n",
       "2583   Restaurantes y comidas fuera del hogar 2020-06-01    NaN       Cuyo\n",
       "2584   Restaurantes y comidas fuera del hogar 2020-07-01    NaN       Cuyo\n",
       "4429                                  Calzado 2020-04-01    NaN        GBA\n",
       "5815           Prendas de vestir y materiales 2020-04-01    NaN        GBA\n",
       "6046   Restaurantes y comidas fuera del hogar 2020-04-01    NaN        GBA\n",
       "6047   Restaurantes y comidas fuera del hogar 2020-05-01    NaN        GBA\n",
       "6048   Restaurantes y comidas fuera del hogar 2020-06-01    NaN        GBA\n",
       "6049   Restaurantes y comidas fuera del hogar 2020-07-01    NaN        GBA\n",
       "7894                                  Calzado 2020-04-01    NaN    Noreste\n",
       "9126           Prendas de vestir y materiales 2020-04-01    NaN    Noreste\n",
       "9357   Restaurantes y comidas fuera del hogar 2020-04-01    NaN    Noreste\n",
       "9358   Restaurantes y comidas fuera del hogar 2020-05-01    NaN    Noreste\n",
       "9359   Restaurantes y comidas fuera del hogar 2020-06-01    NaN    Noreste\n",
       "9360   Restaurantes y comidas fuera del hogar 2020-07-01    NaN    Noreste\n",
       "11205                                 Calzado 2020-04-01    NaN   Noroeste\n",
       "12437          Prendas de vestir y materiales 2020-04-01    NaN   Noroeste\n",
       "12668  Restaurantes y comidas fuera del hogar 2020-04-01    NaN   Noroeste\n",
       "12669  Restaurantes y comidas fuera del hogar 2020-05-01    NaN   Noroeste\n",
       "12670  Restaurantes y comidas fuera del hogar 2020-06-01    NaN   Noroeste\n",
       "12671  Restaurantes y comidas fuera del hogar 2020-07-01    NaN   Noroeste\n",
       "14516                                 Calzado 2020-04-01    NaN   Pampeana\n",
       "15748          Prendas de vestir y materiales 2020-04-01    NaN   Pampeana\n",
       "15979  Restaurantes y comidas fuera del hogar 2020-04-01    NaN   Pampeana\n",
       "15980  Restaurantes y comidas fuera del hogar 2020-05-01    NaN   Pampeana\n",
       "15981  Restaurantes y comidas fuera del hogar 2020-06-01    NaN   Pampeana\n",
       "15982  Restaurantes y comidas fuera del hogar 2020-07-01    NaN   Pampeana\n",
       "17827                                 Calzado 2020-04-01    NaN  Patagonia\n",
       "19059          Prendas de vestir y materiales 2020-04-01    NaN  Patagonia\n",
       "19290  Restaurantes y comidas fuera del hogar 2020-04-01    NaN  Patagonia\n",
       "19291  Restaurantes y comidas fuera del hogar 2020-05-01    NaN  Patagonia\n",
       "19292  Restaurantes y comidas fuera del hogar 2020-06-01    NaN  Patagonia\n",
       "19293  Restaurantes y comidas fuera del hogar 2020-07-01    NaN  Patagonia"
      ]
     },
     "execution_count": 7,
     "metadata": {},
     "output_type": "execute_result"
    }
   ],
   "source": [
    "data[data[\"value\"].isna()]"
   ]
  },
  {
   "attachments": {},
   "cell_type": "markdown",
   "metadata": {},
   "source": [
    "Por las fechas parece que tiene que ver con la cuarentena, quizás valores que no se relevaron. Lo ideal para tomar una decisión de que hacer es saber qué uso va a tener el dataset. En este caso, se va a suponer que se requieren estos valores y se van a reemplazar los nulos mediante una interpolación."
   ]
  },
  {
   "cell_type": "code",
   "execution_count": 8,
   "metadata": {},
   "outputs": [],
   "source": [
    "data_filled = data.copy()"
   ]
  },
  {
   "cell_type": "code",
   "execution_count": 9,
   "metadata": {},
   "outputs": [],
   "source": [
    "data_grouped = data.groupby([\"region\", \"category\"])\n",
    "data_filled[\"value\"] = data_grouped[\"value\"].apply(lambda x: x.interpolate()).reset_index()[\"value\"]"
   ]
  },
  {
   "attachments": {},
   "cell_type": "markdown",
   "metadata": {},
   "source": [
    "Vamos a comprobar que los únicos valores cambiados fueron los nullos."
   ]
  },
  {
   "cell_type": "code",
   "execution_count": 10,
   "metadata": {},
   "outputs": [
    {
     "data": {
      "text/plain": [
       "date\n",
       "2020-04-01    36\n",
       "2020-05-01    12\n",
       "2020-06-01    12\n",
       "2020-07-01    12\n",
       "Name: count, dtype: int64"
      ]
     },
     "execution_count": 10,
     "metadata": {},
     "output_type": "execute_result"
    }
   ],
   "source": [
    "pd.concat([data, data_filled]).drop_duplicates(keep=False)[\"date\"].value_counts()"
   ]
  },
  {
   "cell_type": "code",
   "execution_count": 11,
   "metadata": {},
   "outputs": [
    {
     "data": {
      "text/html": [
       "<div>\n",
       "<style scoped>\n",
       "    .dataframe tbody tr th:only-of-type {\n",
       "        vertical-align: middle;\n",
       "    }\n",
       "\n",
       "    .dataframe tbody tr th {\n",
       "        vertical-align: top;\n",
       "    }\n",
       "\n",
       "    .dataframe thead th {\n",
       "        text-align: right;\n",
       "    }\n",
       "</style>\n",
       "<table border=\"1\" class=\"dataframe\">\n",
       "  <thead>\n",
       "    <tr style=\"text-align: right;\">\n",
       "      <th></th>\n",
       "      <th>category</th>\n",
       "      <th>date</th>\n",
       "      <th>value</th>\n",
       "      <th>region</th>\n",
       "    </tr>\n",
       "  </thead>\n",
       "  <tbody>\n",
       "  </tbody>\n",
       "</table>\n",
       "</div>"
      ],
      "text/plain": [
       "Empty DataFrame\n",
       "Columns: [category, date, value, region]\n",
       "Index: []"
      ]
     },
     "execution_count": 11,
     "metadata": {},
     "output_type": "execute_result"
    }
   ],
   "source": [
    "data_filled[data_filled[\"value\"].isna()]"
   ]
  },
  {
   "cell_type": "code",
   "execution_count": 12,
   "metadata": {},
   "outputs": [],
   "source": [
    "data = data_filled.copy()"
   ]
  },
  {
   "attachments": {},
   "cell_type": "markdown",
   "metadata": {},
   "source": [
    "Ahora vamos a comprobar que todos las fechas tengan la misma cantidad de datos."
   ]
  },
  {
   "cell_type": "code",
   "execution_count": 13,
   "metadata": {},
   "outputs": [
    {
     "data": {
      "text/plain": [
       "<Axes: ylabel='Frequency'>"
      ]
     },
     "execution_count": 13,
     "metadata": {},
     "output_type": "execute_result"
    },
    {
     "data": {
      "image/png": "[encoded data removed]",
      "text/plain": [
       "<Figure size 640x480 with 1 Axes>"
      ]
     },
     "metadata": {},
     "output_type": "display_data"
    }
   ],
   "source": [
    "data[\"date\"].value_counts().plot(kind=\"hist\")"
   ]
  },
  {
   "attachments": {},
   "cell_type": "markdown",
   "metadata": {},
   "source": [
    "También si todas las categorías tienen la misma cantidad de datos."
   ]
  },
  {
   "cell_type": "code",
   "execution_count": 14,
   "metadata": {},
   "outputs": [
    {
     "data": {
      "text/plain": [
       "category\n",
       "Aceites, grasas y manteca                                                   462\n",
       "Adquisición de vehículos                                                    462\n",
       "Gastos de prepagas                                                          462\n",
       "Leche, productos lácteos y huevos                                           462\n",
       "Nivel general                                                               462\n",
       "Pan y cereales                                                              462\n",
       "Periódicos, diarios, revistas, libros y artículos de papelería              462\n",
       "Prendas de vestir y calzado                                                 462\n",
       "Prendas de vestir y materiales                                              462\n",
       "Productos medicinales, artefactos y equipos para la salud                   462\n",
       "Recreación y cultura                                                        462\n",
       "Restaurantes y comidas fuera del hogar                                      462\n",
       "Restaurantes y hoteles                                                      462\n",
       "Salud                                                                       462\n",
       "Servicios  de telefonía e internet                                          462\n",
       "Servicios recreativos y culturales                                          462\n",
       "Tabaco                                                                      462\n",
       "Transporte                                                                  462\n",
       "Transporte público                                                          462\n",
       "Verduras, tubérculos y legumbres                                            462\n",
       "Vivienda, agua, electricidad, gas y otros combustibles                      462\n",
       "Funcionamiento de equipos de transporte personal                            462\n",
       "Frutas                                                                      462\n",
       "Equipamiento y mantenimiento del hogar                                      462\n",
       "Electricidad, gas y otros combustibles                                      462\n",
       "Aguas minerales, bebidas gaseosas y jugos                                   462\n",
       "Alimentos                                                                   462\n",
       "Alimentos y bebidas no alcohólicas                                          462\n",
       "Alquiler de la vivienda                                                     462\n",
       "Alquiler de la vivienda y gastos conexos                                    462\n",
       "Azúcar, dulces, chocolate, golosinas, etc.                                  462\n",
       "Bebidas alcohólicas                                                         462\n",
       "Bebidas alcohólicas y tabaco                                                462\n",
       "Bebidas no alcohólicas                                                      462\n",
       "Bienes y servicios para la conservación del hogar                           462\n",
       "Bienes y servicios varios                                                   462\n",
       "Café, té, yerba y cacao                                                     462\n",
       "Calzado                                                                     462\n",
       "Carnes y derivados                                                          462\n",
       "Combustibles y lubricantes para vehículos de uso del hogar                  462\n",
       "Comunicación                                                                462\n",
       "Cuidado personal                                                            462\n",
       "Educación                                                                   462\n",
       "Equipos audiovisuales, fotográficos y de procesamiento de la información     77\n",
       "Mantenimiento y reparación de la vivienda                                    77\n",
       "Name: count, dtype: int64"
      ]
     },
     "execution_count": 14,
     "metadata": {},
     "output_type": "execute_result"
    }
   ],
   "source": [
    "data[\"category\"].value_counts()"
   ]
  },
  {
   "attachments": {},
   "cell_type": "markdown",
   "metadata": {},
   "source": [
    "Vemos que hay dos categorías que tienen menos datos. Vamos a ver a que región pertenecen."
   ]
  },
  {
   "cell_type": "code",
   "execution_count": 15,
   "metadata": {},
   "outputs": [
    {
     "data": {
      "text/plain": [
       "region\n",
       "GBA    154\n",
       "Name: count, dtype: int64"
      ]
     },
     "execution_count": 15,
     "metadata": {},
     "output_type": "execute_result"
    }
   ],
   "source": [
    "data[data[\"category\"].isin([\"Equipos audiovisuales, fotográficos y de procesamiento de la información\", \"Mantenimiento y reparación de la vivienda\"])][\"region\"].value_counts()"
   ]
  },
  {
   "attachments": {},
   "cell_type": "markdown",
   "metadata": {},
   "source": [
    "Podemos ver que hay dos categorías que solo aparecen para GBA. Por esto esta región va a tener más registros."
   ]
  },
  {
   "cell_type": "code",
   "execution_count": 16,
   "metadata": {},
   "outputs": [
    {
     "data": {
      "image/png": "[encoded data removed]",
      "text/plain": [
       "<Figure size 640x480 with 1 Axes>"
      ]
     },
     "metadata": {},
     "output_type": "display_data"
    }
   ],
   "source": [
    "ax = data[\"region\"].value_counts().plot(kind=\"bar\")\n",
    "for container in ax.containers:\n",
    "    ax.bar_label(container)"
   ]
  },
  {
   "attachments": {},
   "cell_type": "markdown",
   "metadata": {},
   "source": [
    "Ahora vamos a analizar los valores de \"value\". Lo importante es que no tenga valores negativos y que el cambio entre valores sea razonable. Con un histograma se puede ver qué valores son los más típicos."
   ]
  },
  {
   "cell_type": "code",
   "execution_count": 18,
   "metadata": {},
   "outputs": [
    {
     "data": {
      "image/png": "[encoded data removed]",
      "text/plain": [
       "<Figure size 640x480 with 1 Axes>"
      ]
     },
     "metadata": {},
     "output_type": "display_data"
    }
   ],
   "source": [
    "ax = data[\"value\"].plot(kind=\"hist\")\n",
    "# for container in ax.containers:\n",
    "    # ax.bar_label(container)"
   ]
  },
  {
   "attachments": {},
   "cell_type": "markdown",
   "metadata": {},
   "source": [
    "Para ver el cambio de valores se puede usar el método pct_change() agrupando por región y categoría."
   ]
  },
  {
   "cell_type": "code",
   "execution_count": 19,
   "metadata": {},
   "outputs": [
    {
     "data": {
      "text/html": [
       "<div>\n",
       "<style scoped>\n",
       "    .dataframe tbody tr th:only-of-type {\n",
       "        vertical-align: middle;\n",
       "    }\n",
       "\n",
       "    .dataframe tbody tr th {\n",
       "        vertical-align: top;\n",
       "    }\n",
       "\n",
       "    .dataframe thead th {\n",
       "        text-align: right;\n",
       "    }\n",
       "</style>\n",
       "<table border=\"1\" class=\"dataframe\">\n",
       "  <thead>\n",
       "    <tr style=\"text-align: right;\">\n",
       "      <th></th>\n",
       "      <th>category</th>\n",
       "      <th>date</th>\n",
       "      <th>value</th>\n",
       "      <th>region</th>\n",
       "      <th>percentage_change</th>\n",
       "    </tr>\n",
       "  </thead>\n",
       "  <tbody>\n",
       "    <tr>\n",
       "      <th>0</th>\n",
       "      <td>Aceites, grasas y manteca</td>\n",
       "      <td>2016-12-01</td>\n",
       "      <td>100.0000</td>\n",
       "      <td>Cuyo</td>\n",
       "      <td>NaN</td>\n",
       "    </tr>\n",
       "    <tr>\n",
       "      <th>1</th>\n",
       "      <td>Aceites, grasas y manteca</td>\n",
       "      <td>2017-01-01</td>\n",
       "      <td>104.4466</td>\n",
       "      <td>Cuyo</td>\n",
       "      <td>0.044466</td>\n",
       "    </tr>\n",
       "    <tr>\n",
       "      <th>2</th>\n",
       "      <td>Aceites, grasas y manteca</td>\n",
       "      <td>2017-02-01</td>\n",
       "      <td>112.0237</td>\n",
       "      <td>Cuyo</td>\n",
       "      <td>0.072545</td>\n",
       "    </tr>\n",
       "    <tr>\n",
       "      <th>3</th>\n",
       "      <td>Aceites, grasas y manteca</td>\n",
       "      <td>2017-03-01</td>\n",
       "      <td>111.1990</td>\n",
       "      <td>Cuyo</td>\n",
       "      <td>-0.007362</td>\n",
       "    </tr>\n",
       "    <tr>\n",
       "      <th>4</th>\n",
       "      <td>Aceites, grasas y manteca</td>\n",
       "      <td>2017-04-01</td>\n",
       "      <td>110.9950</td>\n",
       "      <td>Cuyo</td>\n",
       "      <td>-0.001835</td>\n",
       "    </tr>\n",
       "    <tr>\n",
       "      <th>...</th>\n",
       "      <td>...</td>\n",
       "      <td>...</td>\n",
       "      <td>...</td>\n",
       "      <td>...</td>\n",
       "      <td>...</td>\n",
       "    </tr>\n",
       "    <tr>\n",
       "      <th>20015</th>\n",
       "      <td>Vivienda, agua, electricidad, gas y otros comb...</td>\n",
       "      <td>2022-12-01</td>\n",
       "      <td>893.0340</td>\n",
       "      <td>Patagonia</td>\n",
       "      <td>0.042578</td>\n",
       "    </tr>\n",
       "    <tr>\n",
       "      <th>20016</th>\n",
       "      <td>Vivienda, agua, electricidad, gas y otros comb...</td>\n",
       "      <td>2023-01-01</td>\n",
       "      <td>965.7310</td>\n",
       "      <td>Patagonia</td>\n",
       "      <td>0.081405</td>\n",
       "    </tr>\n",
       "    <tr>\n",
       "      <th>20017</th>\n",
       "      <td>Vivienda, agua, electricidad, gas y otros comb...</td>\n",
       "      <td>2023-02-01</td>\n",
       "      <td>1002.5857</td>\n",
       "      <td>Patagonia</td>\n",
       "      <td>0.038162</td>\n",
       "    </tr>\n",
       "    <tr>\n",
       "      <th>20018</th>\n",
       "      <td>Vivienda, agua, electricidad, gas y otros comb...</td>\n",
       "      <td>2023-03-01</td>\n",
       "      <td>1045.6743</td>\n",
       "      <td>Patagonia</td>\n",
       "      <td>0.042977</td>\n",
       "    </tr>\n",
       "    <tr>\n",
       "      <th>20019</th>\n",
       "      <td>Vivienda, agua, electricidad, gas y otros comb...</td>\n",
       "      <td>2023-04-01</td>\n",
       "      <td>1116.1330</td>\n",
       "      <td>Patagonia</td>\n",
       "      <td>0.067381</td>\n",
       "    </tr>\n",
       "  </tbody>\n",
       "</table>\n",
       "<p>20020 rows × 5 columns</p>\n",
       "</div>"
      ],
      "text/plain": [
       "                                                category       date  \\\n",
       "0                              Aceites, grasas y manteca 2016-12-01   \n",
       "1                              Aceites, grasas y manteca 2017-01-01   \n",
       "2                              Aceites, grasas y manteca 2017-02-01   \n",
       "3                              Aceites, grasas y manteca 2017-03-01   \n",
       "4                              Aceites, grasas y manteca 2017-04-01   \n",
       "...                                                  ...        ...   \n",
       "20015  Vivienda, agua, electricidad, gas y otros comb... 2022-12-01   \n",
       "20016  Vivienda, agua, electricidad, gas y otros comb... 2023-01-01   \n",
       "20017  Vivienda, agua, electricidad, gas y otros comb... 2023-02-01   \n",
       "20018  Vivienda, agua, electricidad, gas y otros comb... 2023-03-01   \n",
       "20019  Vivienda, agua, electricidad, gas y otros comb... 2023-04-01   \n",
       "\n",
       "           value     region  percentage_change  \n",
       "0       100.0000       Cuyo                NaN  \n",
       "1       104.4466       Cuyo           0.044466  \n",
       "2       112.0237       Cuyo           0.072545  \n",
       "3       111.1990       Cuyo          -0.007362  \n",
       "4       110.9950       Cuyo          -0.001835  \n",
       "...          ...        ...                ...  \n",
       "20015   893.0340  Patagonia           0.042578  \n",
       "20016   965.7310  Patagonia           0.081405  \n",
       "20017  1002.5857  Patagonia           0.038162  \n",
       "20018  1045.6743  Patagonia           0.042977  \n",
       "20019  1116.1330  Patagonia           0.067381  \n",
       "\n",
       "[20020 rows x 5 columns]"
      ]
     },
     "execution_count": 19,
     "metadata": {},
     "output_type": "execute_result"
    }
   ],
   "source": [
    "df = data.sort_values(['region', 'category', 'date'])\n",
    "grouped = df.groupby(['region', 'category'])\n",
    "df['percentage_change'] = grouped['value'].pct_change()\n",
    "df\n"
   ]
  },
  {
   "cell_type": "code",
   "execution_count": 20,
   "metadata": {},
   "outputs": [
    {
     "data": {
      "text/plain": [
       "count    19760.000000\n",
       "mean         0.035911\n",
       "std          0.031571\n",
       "min         -0.166368\n",
       "25%          0.015954\n",
       "50%          0.030483\n",
       "75%          0.050689\n",
       "max          0.516290\n",
       "Name: percentage_change, dtype: float64"
      ]
     },
     "execution_count": 20,
     "metadata": {},
     "output_type": "execute_result"
    }
   ],
   "source": [
    "df[\"percentage_change\"].describe()"
   ]
  },
  {
   "attachments": {},
   "cell_type": "markdown",
   "metadata": {},
   "source": [
    "Se puede ver que los valores son razonables. El cambio más grande es de un 50%."
   ]
  },
  {
   "attachments": {},
   "cell_type": "markdown",
   "metadata": {},
   "source": [
    "Observaciones:\n",
    "\n",
    "1. Hay valores faltantes para las categorías \"Prendas de vestir y materiales\", \"Calzado\" y \"Restaurantes y comidas fuera del hogar\" durante algunos meses del 2020. Probablemente tenga relación con la cuarentena.\n",
    "2. No hay valores negativos en los índices y no hay ningún cambio mes a mes que parezca fuera de lo normal.\n",
    "3. Hay dos categorías \"Equipos audiovisuales, fotográficos y de procesamiento de la información\" y \"Mantenimiento y reparación de la vivienda\" que sólo aparecen para GBA.\n",
    "4. \n",
    "5."
   ]
  },
  {
   "attachments": {},
   "cell_type": "markdown",
   "metadata": {},
   "source": []
  }
 ],
 "metadata": {
  "kernelspec": {
   "display_name": ".venv",
   "language": "python",
   "name": "python3"
  },
  "language_info": {
   "codemirror_mode": {
    "name": "ipython",
    "version": 3
   },
   "file_extension": ".py",
   "mimetype": "text/x-python",
   "name": "python",
   "nbconvert_exporter": "python",
   "pygments_lexer": "ipython3",
   "version": "3.8.10"
  },
  "orig_nbformat": 4
 },
 "nbformat": 4,
 "nbformat_minor": 2
}
